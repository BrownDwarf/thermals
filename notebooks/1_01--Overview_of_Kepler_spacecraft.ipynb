{
 "cells": [
  {
   "cell_type": "markdown",
   "metadata": {},
   "source": [
    "# I. Thermals: Introduction\n",
    "## 1. Overview of Kepler Spacecraft\n"
   ]
  },
  {
   "cell_type": "markdown",
   "metadata": {},
   "source": [
    "In this first Notebook, we explore the Kepler Spacecraft, additional information, and some key ideas for how its engineering telemetry varies."
   ]
  },
  {
   "cell_type": "markdown",
   "metadata": {},
   "source": [
    "<img src=https://keplerscience.arc.nasa.gov/images/kepler_focalplane1.jpg></img>\n",
    "\n",
    "Overview of the Kepler Spacecraft.  The spacecraft had many thermal, attitude, and electrical sensors placed on a variety of its subsystems to measure operational conditions.  These sensor data could potentially be useful to trace back the cause of putative instrumental signals."
   ]
  },
  {
   "cell_type": "markdown",
   "metadata": {},
   "source": [
    "### Sources of more information\n",
    "\n",
    "Much has been written about the instrumental signals in Kepler.  Consult these resources to learn more:\n",
    "\n",
    "- Kepler Guest Observer Office [Telescope Page](https://keplerscience.arc.nasa.gov/the-kepler-space-telescope.html)\n",
    "- [Kepler Instrument Handbook](https://archive.stsci.edu/kepler/manuals/KSCI-19033-002.pdf)\n",
    "- [Kepler Archive Manual](https://archive.stsci.edu/kepler/manuals/archive_manual.pdf)\n",
    "- [Kepler Data Characteristics Manual](https://archive.stsci.edu/kepler/manuals/Data_Characteristics.pdf)"
   ]
  }
 ],
 "metadata": {
  "kernelspec": {
   "display_name": "Python 3",
   "language": "python",
   "name": "python3"
  },
  "language_info": {
   "codemirror_mode": {
    "name": "ipython",
    "version": 3
   },
   "file_extension": ".py",
   "mimetype": "text/x-python",
   "name": "python",
   "nbconvert_exporter": "python",
   "pygments_lexer": "ipython3",
   "version": "3.6.8"
  }
 },
 "nbformat": 4,
 "nbformat_minor": 2
}
