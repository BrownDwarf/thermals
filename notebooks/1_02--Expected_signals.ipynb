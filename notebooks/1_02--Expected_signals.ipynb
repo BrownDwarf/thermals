{
 "cells": [
  {
   "cell_type": "markdown",
   "metadata": {},
   "source": [
    "# I. Thermals: Introduction\n",
    "## 2. Expectations for signals\n"
   ]
  },
  {
   "cell_type": "markdown",
   "metadata": {},
   "source": [
    "What instrumental signals do we expect to see in the Kepler Spacecraft?"
   ]
  },
  {
   "cell_type": "markdown",
   "metadata": {},
   "source": [
    "- [Rolling band](https://www.youtube.com/watch?v=cAc70ErIsSQ)\n",
    "- Point Spread Function size change arising from thermal-induced focus change, see Figure 10 of the [Kepler Data Characteristics Manual](https://archive.stsci.edu/kepler/manuals/Data_Characteristics.pdf)\n",
    "- Others"
   ]
  },
  {
   "cell_type": "markdown",
   "metadata": {},
   "source": [
    "## How can you distinguish these signals?  \n",
    "\n",
    "Both signals arise from thermal variations.  \n",
    "\n",
    "**Rolling band** should exist equally in empty or \"background\" pixels and target source pixels.  \n",
    "\n",
    "**Point spread function variations** act to spill flux out-of or into a pre-defined aperture mask.  \n",
    "\n",
    "So the signals should differ around bight versus faint sources, or by checking background/empty pixels for signals.\n",
    "\n",
    "Many other effects can arise.  See the various Kepler Handbooks for more info.\n",
    "\n"
   ]
  }
 ],
 "metadata": {
  "kernelspec": {
   "display_name": "Python 3",
   "language": "python",
   "name": "python3"
  },
  "language_info": {
   "codemirror_mode": {
    "name": "ipython",
    "version": 3
   },
   "file_extension": ".py",
   "mimetype": "text/x-python",
   "name": "python",
   "nbconvert_exporter": "python",
   "pygments_lexer": "ipython3",
   "version": "3.6.8"
  }
 },
 "nbformat": 4,
 "nbformat_minor": 2
}
